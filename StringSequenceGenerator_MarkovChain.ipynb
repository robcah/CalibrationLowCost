{
  "nbformat": 4,
  "nbformat_minor": 0,
  "metadata": {
    "colab": {
      "name": "StringSequenceGenerator-MarkovChain.ipynb",
      "provenance": [],
      "collapsed_sections": [],
      "authorship_tag": "ABX9TyMXoxaMJuGdEnhb8EXc/eJw",
      "include_colab_link": true
    },
    "kernelspec": {
      "name": "python3",
      "display_name": "Python 3"
    }
  },
  "cells": [
    {
      "cell_type": "markdown",
      "metadata": {
        "id": "view-in-github",
        "colab_type": "text"
      },
      "source": [
        "<a href=\"https://colab.research.google.com/github/robcah/CalibrationLowCost/blob/master/StringSequenceGenerator_MarkovChain.ipynb\" target=\"_parent\"><img src=\"https://colab.research.google.com/assets/colab-badge.svg\" alt=\"Open In Colab\"/></a>"
      ]
    },
    {
      "cell_type": "code",
      "metadata": {
        "id": "BaMYIFRoPtVM",
        "colab_type": "code",
        "colab": {}
      },
      "source": [
        "# From: https://medium.com/@__amol__/markov-chains-with-python-1109663f3678\n",
        "\n",
        "import numpy as np\n",
        " \n",
        "class MarkovChain(object):\n",
        "    def __init__(self, transition_prob):\n",
        "        \"\"\"\n",
        "        Initialize the MarkovChain instance.\n",
        " \n",
        "        Parameters\n",
        "        ----------\n",
        "        transition_prob: dict\n",
        "            A dict object representing the transition \n",
        "            probabilities in Markov Chain. \n",
        "            Should be of the form: \n",
        "                {'state1': {'state1': 0.1, 'state2': 0.4}, \n",
        "                 'state2': {...}}\n",
        "        \"\"\"\n",
        "        self.transition_prob = transition_prob\n",
        "        self.states = list(transition_prob.keys())\n",
        " \n",
        "    def next_state(self, current_state):\n",
        "        \"\"\"\n",
        "        Returns the state of the random variable at the next time \n",
        "        instance.\n",
        " \n",
        "        Parameters\n",
        "        ----------\n",
        "        current_state: str\n",
        "            The current state of the system.\n",
        "        \"\"\"\n",
        "        next_ = np.random.choice(self.states, p = [\n",
        "              self.transition_prob[current_state][next_state] \n",
        "               for next_state in self.states]\n",
        "        )\n",
        "        return next_\n",
        " \n",
        "    def generate_states(self, current_state, no=10):\n",
        "        \"\"\"\n",
        "        Generates the next states of the system.\n",
        " \n",
        "        Parameters\n",
        "        ----------\n",
        "        current_state: str\n",
        "            The state of the current random variable.\n",
        " \n",
        "        no: int\n",
        "            The number of future states to generate.\n",
        "        \"\"\"\n",
        "        future_states = []\n",
        "        for i in range(no):\n",
        "            next_state = self.next_state(current_state)\n",
        "            future_states.append(next_state)\n",
        "            current_state = next_state\n",
        "\n",
        "        return ''.join(future_states)"
      ],
      "execution_count": 0,
      "outputs": []
    },
    {
      "cell_type": "code",
      "metadata": {
        "id": "7v_6sUXfJ2kv",
        "colab_type": "code",
        "colab": {}
      },
      "source": [
        "def MarkovMatrix(n = 26):\n",
        "  '''\n",
        "  Generates a Markov matrix for transition among n symbols\n",
        "  \n",
        "  Parameters\n",
        "  ----------\n",
        "  n: int\n",
        "      number of symbols\n",
        "  '''\n",
        "\n",
        "  np.random.seed(0) # for replicability\n",
        "  symbols = [chr(i+65) for i in range(n)] # list of available symbols\n",
        "\n",
        "  markov_matrix = {}\n",
        "  for i, s in enumerate(symbols):\n",
        "    dim = len(symbols)\n",
        "\n",
        "    # Probabilities of change of state (symbol)\n",
        "    # Random with a decreasing probability to jump to the farthest states\n",
        "    # It could be replaced by a negative logarithmic function  to make it more \n",
        "    # likely to land in the same state and change the complexity of the sequence\n",
        "    probs = np.random.random(dim*3) \n",
        "    probs.sort()\n",
        "    probs = np.append(probs[dim%2::2], probs[::-2])\n",
        "    offset = -int(dim*1.5)\n",
        "    # to keep the highest value in the current state\n",
        "    probs = np.roll(probs, offset+i)[:dim] \n",
        "    probs /= probs.sum()\n",
        "    \n",
        "    markov_matrix[s] = {s: p for s, p in zip(symbols, probs)}\n",
        "\n",
        "  return markov_matrix\n"
      ],
      "execution_count": 0,
      "outputs": []
    },
    {
      "cell_type": "code",
      "metadata": {
        "id": "hPbvl1dJLgK4",
        "colab_type": "code",
        "colab": {
          "base_uri": "https://localhost:8080/",
          "height": 54
        },
        "outputId": "40a97ed3-62e3-4e89-d9f5-169aa77f0b04"
      },
      "source": [
        "transitions = MarkovMatrix()\n",
        "sequence = MarkovChain(transition_prob=transitions)\n",
        "seq = sequence.generate_states(current_state = 'A', no = 1000)\n",
        "print(seq)"
      ],
      "execution_count": 147,
      "outputs": [
        {
          "output_type": "stream",
          "text": [
            "SLOZACRUUPZNPCIQHXTISCYCWJSAERPDIIMQVPLDSTMNQEAFMMRVOEUQTTZLRLKGHXKGMHKUHJOOZUUZOKBDEDQORVIHQLAIWNJZTKCRSYICPGDGTPBJQOPGUQSZOWAAMIGGGQPUWWNLXTCLJZAMRIYXYBMIURPDLPYRZZTOMWBCBRKPQKMQYRQCXQUBIGFRRMAYZIBLYYRJIWPEFFCJWTCAFHSZNRZVSCGWHUTKMNROERMYKGHMWHGMLLUYPRUPIOPXCVPAGQNZOJTPRVTMDMWNXPQVQCZJQNMGQDZXQLHLWJLGHEZRTDHVDDNPVYFFIABEKGVKXZPGGSIIKNZJIGHCGVKJXUPUEJDECGIXJLUVUJLFDIROWWBMPYBLFBMTUBIBEEEHGYMWHRCJASYBXVLXKKCOBKQVFQSPPDMKVKNLWJCQLOAXXSAHZUFJYQANHCHMALMTMNSXMPSBSLQMRTGOVIRRYJDGFQTSHUYQROIGGEWXOKXIMBDMQPWZVOVEPOFYLPWPDSKZYXLSZQMAPWJHLCBIGIKZZGVDKEHRMUTYQUKIJJCKCVCIGDRSFNTUDOSWPMYWQJUNCJVNAMZWSXWPPSWCRNQTPFIBPYWMOIMIRIYTCAZIHEXSOOJOLFNKTMMTNYWWZNORSYKHWVHMSKKNMSAIHNTCCOSQZQEPPPOYFBCEMPHLMLUOTFKUGKOFQCXOJDIPDGUSGDVJEZLDJKXFBBWOEMNFMJFKHFUFFHGERKDLDHVLPOEOVDQSWEGPAQWOLHADZXJYMIDVZLRKCHMDSOGNTJQLYVLAOFCWZKHDJVTWIRXJQLHYMDHKSYWYPSJBHQHUVHHTHHHTBBMKPIWVCRZZVEMHYURSMJXLBISRYEWMMLDERACAURFQZYYAMHMIDJLZCFTSVSUOGTPESYMICOYFJCAOWLWFEWPQBCBWFTKTKGCFJTNZRAIQGPNARPCJHVJXQJTSMPUWWGTCDNDMIJHBKYSJYNRRYYGB\n"
          ],
          "name": "stdout"
        }
      ]
    },
    {
      "cell_type": "code",
      "metadata": {
        "id": "2uxLfaU4FoHq",
        "colab_type": "code",
        "colab": {
          "base_uri": "https://localhost:8080/",
          "height": 54
        },
        "outputId": "ebc47149-d515-4b41-d592-e8fb46957481"
      },
      "source": [
        "transitions = MarkovMatrix(n=5)\n",
        "sequence = MarkovChain(transition_prob=transitions)\n",
        "seq = sequence.generate_states(current_state = 'A', no = 1000)\n",
        "print(seq)"
      ],
      "execution_count": 149,
      "outputs": [
        {
          "output_type": "stream",
          "text": [
            "ABABABBADDBCACECDADBACADACBDEBCCCBECEDBDCEDEDDCEDCCABDBCCABCCCDDCECCEEDAEDEBEBCADEDCADCDEEEABDBCAAADBBEDAACCBEDDDDCCBAEDCBBABBDCAAACCCEEBDBADCBCEDEBDBEDBEDBACAABBCBCEACADCCBABBEEDEACCECBAAEDDBCABEECEBEEEDECEDABAECCDCADBCBAEEEEECABBAADADBAACBBCEDBAABBCDDBBADADDDBBCBBABADACBCEDABCCDBABEBEDCECDCEDDCDDBADECCECEDEEEBCCABBEAECBAABEAEECBBCAABAAAAAAACEECACCEADBBDBDDCCBDCBEEAABDEEECEBAEBDADEBBBDBABBEBCEDEEEDEECABABACBEEDBCECCBCCBCBBCDCEEAABABDDDDBBDEDBADABCEABABCBAACDDEACCCEADEDCDABCDAABCEDBEEDEDEEEEAABECAECEBDCADBAAAEDEDDCECCBEBBDACCBBCBCBEBABCDCECDDEEEEDCAAABCDEAACDEEECBACDEABCBAEABABECEABBBDCDDCCCADDDDABBBADACDDEAEACCCBAACECBAAAABAAEBCDCAABCBDDEAECEDEECCBBBCDBCAAAEAACAEDEDBCEDBECAABECCBEEECEEDBBAECCCDEBBEEAABABACBCAEECBBCACCBDDECEECCBEAAABDDCABAAEBEEBCADDECEABDCAADCEDCBCEDADEDBCABEEBBCEBBECEBCBBCCBEDDBCDDCDDBECCCCCCEDCCDCBAEEABAAEAEAEDCBDCDDCEDEDADBEABABDBABDBBADCBDCDEBEBBABCCEEBCABBBCDAEDBEDEBCBBCEEDDECEEBDABBCDACEBDDABDAEDAAEDABCABCBCDBCDEEECBEBCAEEDCBBACABCDABDECEBABBEBBDDDDCAACAAEEBAEBAD\n"
          ],
          "name": "stdout"
        }
      ]
    },
    {
      "cell_type": "code",
      "metadata": {
        "id": "NzSjjllrGMPR",
        "colab_type": "code",
        "colab": {
          "base_uri": "https://localhost:8080/",
          "height": 54
        },
        "outputId": "e68de93b-fcc1-4299-8057-142469f2b99b"
      },
      "source": [
        "transitions = MarkovMatrix(n=2)\n",
        "sequence = MarkovChain(transition_prob=transitions)\n",
        "seq = sequence.generate_states(current_state = 'A', no = 1000)\n",
        "print(seq)"
      ],
      "execution_count": 153,
      "outputs": [
        {
          "output_type": "stream",
          "text": [
            "BBAAABBBBBABABABBAABABABBBBBAABABBAAAABABAAABAAAAABAAABABABABBBAAAAAAAABBAAABBABABAABABABABBABBBABABBABABBBBBBBBABAABABAAABBBBBABAABBBABBBABABABBBAABABBBBAABAAAAABAABBAABBABBBBBAAAABBBAAAAABAAAABAABBABAABAABBBBABABBABBAAAAAAAAABBAAABABAAAABBBBABBBAAAABBBABAABBABABBBBBABBAAABAABAABAAAABBBBBAAAAAABABAAABAABBBAAAAAABBAAABABBBAABAAAAABAAABBBAAAABAAABABBABABABBBABBAABBABBABBBBBABAAAABABAAAAABABBAAABAAAAAAAAAABBBAABBBABAABABBABABAABBAAABBBBABAABABABBAAABAAAABAABBBBBBBBAAAAAABABBBABBABAAAAAAAABABBAAAAABBBBAABBBAABAAABAAAABAAABBBBABBBBABBBABAAABAAABBBABBBBBBBBBAAABAABABABAABAAAABBBBBABAAABAABABAAAAAAABAAABBABABBBBBBBAAAAAABBAABBBBBAAABBBAABAABAAAABABAAAABABBAABABBBBAAAAABABBBBABAAAAAAAABAAAAAAAAABABBAAAAAABBBABABBBBAAAAAABAAAAABAABABBBBABBBABAAAABAAABBBABBBAAABAAABBAABBAAAAAABABABBAAAAABAABBBABBABABAAAABBBAAAABABBABABBBABAABAAABABBAAABBABBBAAAABBAABBAABBBAAAAAAABBBABBBABBABAAABBBBBAABAAABBAAAABABABBAABABBBBBBBABABAAAABAAABAAABAABABBABAAAAAABBABAAAAABABBABBBAAAABBBBBBBBBABAAAABAABABBAABABBAABBA\n"
          ],
          "name": "stdout"
        }
      ]
    }
  ]
}